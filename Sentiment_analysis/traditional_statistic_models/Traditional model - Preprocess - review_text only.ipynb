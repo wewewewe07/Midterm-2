{
 "cells": [
  {
   "cell_type": "code",
   "execution_count": 149,
   "id": "518d1bde",
   "metadata": {},
   "outputs": [],
   "source": [
    "import pandas as pd\n",
    "import numpy as np\n",
    "import re\n",
    "\n",
    "from sklearn.preprocessing import OrdinalEncoder\n",
    "from sklearn.feature_extraction.text import TfidfVectorizer\n",
    "from scipy.sparse import hstack"
   ]
  },
  {
   "cell_type": "markdown",
   "id": "2a8eda7c",
   "metadata": {},
   "source": [
    "### Import Data"
   ]
  },
  {
   "cell_type": "code",
   "execution_count": null,
   "id": "dbde05ec",
   "metadata": {},
   "outputs": [],
   "source": [
    "train = pd.read_csv('train_data.csv')\n",
    "test = pd.read_csv('test_data.csv')\n",
    "val = pd.read_csv('val_data.csv')\n",
    "\n",
    "df = pd.concat([train, val, test], axis=0)"
   ]
  },
  {
   "cell_type": "code",
   "execution_count": 151,
   "id": "8669b471",
   "metadata": {},
   "outputs": [
    {
     "data": {
      "application/vnd.microsoft.datawrangler.viewer.v0+json": {
       "columns": [
        {
         "name": "index",
         "rawType": "int64",
         "type": "integer"
        },
        {
         "name": "review_id",
         "rawType": "int64",
         "type": "integer"
        },
        {
         "name": "author_id",
         "rawType": "object",
         "type": "unknown"
        },
        {
         "name": "rating",
         "rawType": "int64",
         "type": "integer"
        },
        {
         "name": "is_recommended",
         "rawType": "float64",
         "type": "float"
        },
        {
         "name": "helpfulness",
         "rawType": "float64",
         "type": "float"
        },
        {
         "name": "total_feedback_count",
         "rawType": "int64",
         "type": "integer"
        },
        {
         "name": "total_neg_feedback_count",
         "rawType": "int64",
         "type": "integer"
        },
        {
         "name": "total_pos_feedback_count",
         "rawType": "int64",
         "type": "integer"
        },
        {
         "name": "submission_time",
         "rawType": "object",
         "type": "string"
        },
        {
         "name": "review_text",
         "rawType": "object",
         "type": "string"
        },
        {
         "name": "review_title",
         "rawType": "object",
         "type": "unknown"
        },
        {
         "name": "skin_tone",
         "rawType": "object",
         "type": "unknown"
        },
        {
         "name": "eye_color",
         "rawType": "object",
         "type": "unknown"
        },
        {
         "name": "skin_type",
         "rawType": "object",
         "type": "unknown"
        },
        {
         "name": "hair_color",
         "rawType": "object",
         "type": "unknown"
        },
        {
         "name": "product_id",
         "rawType": "object",
         "type": "string"
        },
        {
         "name": "product_name",
         "rawType": "object",
         "type": "string"
        },
        {
         "name": "brand_name",
         "rawType": "object",
         "type": "string"
        },
        {
         "name": "price_usd",
         "rawType": "float64",
         "type": "float"
        },
        {
         "name": "sentiment",
         "rawType": "int64",
         "type": "integer"
        },
        {
         "name": "date",
         "rawType": "object",
         "type": "string"
        }
       ],
       "conversionMethod": "pd.DataFrame",
       "ref": "782d72e1-6f7e-4659-8015-3a56b09827f7",
       "rows": [
        [
         "0",
         "891454",
         "1117870798.0",
         "5",
         "1.0",
         "0.2857140004634857",
         "21",
         "15",
         "6",
         "2008-08-29",
         "it is cruel for nature to combine aging and acne but it happened to me i’ve been using the supplement for two months and my skin in exponentially clearer one warningdo not let yourself run out 1 week without and i started breaking out again never again the pills are big and stinky but the results are worth it",
         "It actually works!",
         "light",
         null,
         "combination",
         null,
         "P7365",
         "Pure Skin Clarifying Dietary Supplement",
         "Murad",
         "50.0",
         "2",
         "2008-08-29"
        ],
        [
         "1",
         "24870",
         "1221497549.0",
         "4",
         "1.0",
         "1.0",
         "0",
         "0",
         "0",
         "2008-09-03",
         "love it i had to get used to it not foaming it leaves my skin refreshed and toned but it doesnt quite take all my eye makeup off",
         null,
         "light",
         null,
         "dry",
         null,
         "P7880",
         "Soy Hydrating Gentle Face Cleanser",
         "fresh",
         "39.0",
         "2",
         "2008-09-03"
        ],
        [
         "2",
         "780337",
         "1229624109.0",
         "5",
         "1.0",
         "1.0",
         "4",
         "0",
         "4",
         "2008-09-04",
         "this product is great i only have to use it occasionally because it does the job so well it’s packed with very tiny particles that exfoliate the skin quickly and easily without it hurting or without your having to put in a lot of effort makes my face feel smooth and fresh every time",
         null,
         "mediumTan",
         null,
         "combination",
         null,
         "P122661",
         "7 Day Face Scrub Cream Rinse-Off Formula",
         "CLINIQUE",
         "26.0",
         "2",
         "2008-09-04"
        ],
        [
         "3",
         "622360",
         "1526018747.0",
         "5",
         "1.0",
         "0.1111110001802444",
         "9",
         "8",
         "1",
         "2008-09-06",
         "this stuff works so well",
         "Amazing!",
         null,
         null,
         null,
         null,
         "P2046",
         "Brumisateur Natural Mineral Water Facial Spray Travel Trio",
         "Evian",
         "23.5",
         "2",
         "2008-09-06"
        ],
        [
         "4",
         "478352",
         "54172647.0",
         "5",
         "1.0",
         "1.0",
         "0",
         "0",
         "0",
         "2008-09-11",
         "love it it’s moisturizing and helps keep concealer in place",
         "Lovely Eye Cream",
         "lightMedium",
         null,
         "combination",
         null,
         "P174502",
         "All About Eyes Rich Eye Cream",
         "CLINIQUE",
         "37.0",
         "2",
         "2008-09-11"
        ]
       ],
       "shape": {
        "columns": 21,
        "rows": 5
       }
      },
      "text/html": [
       "<div>\n",
       "<style scoped>\n",
       "    .dataframe tbody tr th:only-of-type {\n",
       "        vertical-align: middle;\n",
       "    }\n",
       "\n",
       "    .dataframe tbody tr th {\n",
       "        vertical-align: top;\n",
       "    }\n",
       "\n",
       "    .dataframe thead th {\n",
       "        text-align: right;\n",
       "    }\n",
       "</style>\n",
       "<table border=\"1\" class=\"dataframe\">\n",
       "  <thead>\n",
       "    <tr style=\"text-align: right;\">\n",
       "      <th></th>\n",
       "      <th>review_id</th>\n",
       "      <th>author_id</th>\n",
       "      <th>rating</th>\n",
       "      <th>is_recommended</th>\n",
       "      <th>helpfulness</th>\n",
       "      <th>total_feedback_count</th>\n",
       "      <th>total_neg_feedback_count</th>\n",
       "      <th>total_pos_feedback_count</th>\n",
       "      <th>submission_time</th>\n",
       "      <th>review_text</th>\n",
       "      <th>...</th>\n",
       "      <th>skin_tone</th>\n",
       "      <th>eye_color</th>\n",
       "      <th>skin_type</th>\n",
       "      <th>hair_color</th>\n",
       "      <th>product_id</th>\n",
       "      <th>product_name</th>\n",
       "      <th>brand_name</th>\n",
       "      <th>price_usd</th>\n",
       "      <th>sentiment</th>\n",
       "      <th>date</th>\n",
       "    </tr>\n",
       "  </thead>\n",
       "  <tbody>\n",
       "    <tr>\n",
       "      <th>0</th>\n",
       "      <td>891454</td>\n",
       "      <td>1117870798.0</td>\n",
       "      <td>5</td>\n",
       "      <td>1.0</td>\n",
       "      <td>0.285714</td>\n",
       "      <td>21</td>\n",
       "      <td>15</td>\n",
       "      <td>6</td>\n",
       "      <td>2008-08-29</td>\n",
       "      <td>it is cruel for nature to combine aging and ac...</td>\n",
       "      <td>...</td>\n",
       "      <td>light</td>\n",
       "      <td>NaN</td>\n",
       "      <td>combination</td>\n",
       "      <td>NaN</td>\n",
       "      <td>P7365</td>\n",
       "      <td>Pure Skin Clarifying Dietary Supplement</td>\n",
       "      <td>Murad</td>\n",
       "      <td>50.0</td>\n",
       "      <td>2</td>\n",
       "      <td>2008-08-29</td>\n",
       "    </tr>\n",
       "    <tr>\n",
       "      <th>1</th>\n",
       "      <td>24870</td>\n",
       "      <td>1221497549.0</td>\n",
       "      <td>4</td>\n",
       "      <td>1.0</td>\n",
       "      <td>1.000000</td>\n",
       "      <td>0</td>\n",
       "      <td>0</td>\n",
       "      <td>0</td>\n",
       "      <td>2008-09-03</td>\n",
       "      <td>love it i had to get used to it not foaming it...</td>\n",
       "      <td>...</td>\n",
       "      <td>light</td>\n",
       "      <td>NaN</td>\n",
       "      <td>dry</td>\n",
       "      <td>NaN</td>\n",
       "      <td>P7880</td>\n",
       "      <td>Soy Hydrating Gentle Face Cleanser</td>\n",
       "      <td>fresh</td>\n",
       "      <td>39.0</td>\n",
       "      <td>2</td>\n",
       "      <td>2008-09-03</td>\n",
       "    </tr>\n",
       "    <tr>\n",
       "      <th>2</th>\n",
       "      <td>780337</td>\n",
       "      <td>1229624109.0</td>\n",
       "      <td>5</td>\n",
       "      <td>1.0</td>\n",
       "      <td>1.000000</td>\n",
       "      <td>4</td>\n",
       "      <td>0</td>\n",
       "      <td>4</td>\n",
       "      <td>2008-09-04</td>\n",
       "      <td>this product is great i only have to use it oc...</td>\n",
       "      <td>...</td>\n",
       "      <td>mediumTan</td>\n",
       "      <td>NaN</td>\n",
       "      <td>combination</td>\n",
       "      <td>NaN</td>\n",
       "      <td>P122661</td>\n",
       "      <td>7 Day Face Scrub Cream Rinse-Off Formula</td>\n",
       "      <td>CLINIQUE</td>\n",
       "      <td>26.0</td>\n",
       "      <td>2</td>\n",
       "      <td>2008-09-04</td>\n",
       "    </tr>\n",
       "    <tr>\n",
       "      <th>3</th>\n",
       "      <td>622360</td>\n",
       "      <td>1526018747.0</td>\n",
       "      <td>5</td>\n",
       "      <td>1.0</td>\n",
       "      <td>0.111111</td>\n",
       "      <td>9</td>\n",
       "      <td>8</td>\n",
       "      <td>1</td>\n",
       "      <td>2008-09-06</td>\n",
       "      <td>this stuff works so well</td>\n",
       "      <td>...</td>\n",
       "      <td>NaN</td>\n",
       "      <td>NaN</td>\n",
       "      <td>NaN</td>\n",
       "      <td>NaN</td>\n",
       "      <td>P2046</td>\n",
       "      <td>Brumisateur Natural Mineral Water Facial Spray...</td>\n",
       "      <td>Evian</td>\n",
       "      <td>23.5</td>\n",
       "      <td>2</td>\n",
       "      <td>2008-09-06</td>\n",
       "    </tr>\n",
       "    <tr>\n",
       "      <th>4</th>\n",
       "      <td>478352</td>\n",
       "      <td>54172647.0</td>\n",
       "      <td>5</td>\n",
       "      <td>1.0</td>\n",
       "      <td>1.000000</td>\n",
       "      <td>0</td>\n",
       "      <td>0</td>\n",
       "      <td>0</td>\n",
       "      <td>2008-09-11</td>\n",
       "      <td>love it it’s moisturizing and helps keep conce...</td>\n",
       "      <td>...</td>\n",
       "      <td>lightMedium</td>\n",
       "      <td>NaN</td>\n",
       "      <td>combination</td>\n",
       "      <td>NaN</td>\n",
       "      <td>P174502</td>\n",
       "      <td>All About Eyes Rich Eye Cream</td>\n",
       "      <td>CLINIQUE</td>\n",
       "      <td>37.0</td>\n",
       "      <td>2</td>\n",
       "      <td>2008-09-11</td>\n",
       "    </tr>\n",
       "  </tbody>\n",
       "</table>\n",
       "<p>5 rows × 21 columns</p>\n",
       "</div>"
      ],
      "text/plain": [
       "   review_id     author_id  rating  is_recommended  helpfulness  \\\n",
       "0     891454  1117870798.0       5             1.0     0.285714   \n",
       "1      24870  1221497549.0       4             1.0     1.000000   \n",
       "2     780337  1229624109.0       5             1.0     1.000000   \n",
       "3     622360  1526018747.0       5             1.0     0.111111   \n",
       "4     478352    54172647.0       5             1.0     1.000000   \n",
       "\n",
       "   total_feedback_count  total_neg_feedback_count  total_pos_feedback_count  \\\n",
       "0                    21                        15                         6   \n",
       "1                     0                         0                         0   \n",
       "2                     4                         0                         4   \n",
       "3                     9                         8                         1   \n",
       "4                     0                         0                         0   \n",
       "\n",
       "  submission_time                                        review_text  ...  \\\n",
       "0      2008-08-29  it is cruel for nature to combine aging and ac...  ...   \n",
       "1      2008-09-03  love it i had to get used to it not foaming it...  ...   \n",
       "2      2008-09-04  this product is great i only have to use it oc...  ...   \n",
       "3      2008-09-06                           this stuff works so well  ...   \n",
       "4      2008-09-11  love it it’s moisturizing and helps keep conce...  ...   \n",
       "\n",
       "     skin_tone eye_color    skin_type hair_color product_id  \\\n",
       "0        light       NaN  combination        NaN      P7365   \n",
       "1        light       NaN          dry        NaN      P7880   \n",
       "2    mediumTan       NaN  combination        NaN    P122661   \n",
       "3          NaN       NaN          NaN        NaN      P2046   \n",
       "4  lightMedium       NaN  combination        NaN    P174502   \n",
       "\n",
       "                                        product_name brand_name price_usd  \\\n",
       "0            Pure Skin Clarifying Dietary Supplement      Murad      50.0   \n",
       "1                 Soy Hydrating Gentle Face Cleanser      fresh      39.0   \n",
       "2           7 Day Face Scrub Cream Rinse-Off Formula   CLINIQUE      26.0   \n",
       "3  Brumisateur Natural Mineral Water Facial Spray...      Evian      23.5   \n",
       "4                      All About Eyes Rich Eye Cream   CLINIQUE      37.0   \n",
       "\n",
       "   sentiment        date  \n",
       "0          2  2008-08-29  \n",
       "1          2  2008-09-03  \n",
       "2          2  2008-09-04  \n",
       "3          2  2008-09-06  \n",
       "4          2  2008-09-11  \n",
       "\n",
       "[5 rows x 21 columns]"
      ]
     },
     "execution_count": 151,
     "metadata": {},
     "output_type": "execute_result"
    }
   ],
   "source": [
    "df.head()"
   ]
  },
  {
   "cell_type": "code",
   "execution_count": 152,
   "id": "c7f13096",
   "metadata": {},
   "outputs": [
    {
     "data": {
      "text/plain": [
       "15583"
      ]
     },
     "execution_count": 152,
     "metadata": {},
     "output_type": "execute_result"
    }
   ],
   "source": [
    "df['review_title'].isnull().sum()"
   ]
  },
  {
   "cell_type": "code",
   "execution_count": 153,
   "id": "e56f46eb",
   "metadata": {},
   "outputs": [
    {
     "data": {
      "application/vnd.microsoft.datawrangler.viewer.v0+json": {
       "columns": [
        {
         "name": "index",
         "rawType": "int64",
         "type": "integer"
        },
        {
         "name": "review_id",
         "rawType": "int64",
         "type": "integer"
        },
        {
         "name": "author_id",
         "rawType": "object",
         "type": "unknown"
        },
        {
         "name": "rating",
         "rawType": "int64",
         "type": "integer"
        },
        {
         "name": "is_recommended",
         "rawType": "float64",
         "type": "float"
        },
        {
         "name": "helpfulness",
         "rawType": "float64",
         "type": "float"
        },
        {
         "name": "total_feedback_count",
         "rawType": "int64",
         "type": "integer"
        },
        {
         "name": "total_neg_feedback_count",
         "rawType": "int64",
         "type": "integer"
        },
        {
         "name": "total_pos_feedback_count",
         "rawType": "int64",
         "type": "integer"
        },
        {
         "name": "submission_time",
         "rawType": "object",
         "type": "string"
        },
        {
         "name": "review_text",
         "rawType": "object",
         "type": "string"
        },
        {
         "name": "review_title",
         "rawType": "object",
         "type": "unknown"
        },
        {
         "name": "skin_tone",
         "rawType": "object",
         "type": "unknown"
        },
        {
         "name": "eye_color",
         "rawType": "object",
         "type": "unknown"
        },
        {
         "name": "skin_type",
         "rawType": "object",
         "type": "unknown"
        },
        {
         "name": "hair_color",
         "rawType": "object",
         "type": "unknown"
        },
        {
         "name": "product_id",
         "rawType": "object",
         "type": "string"
        },
        {
         "name": "product_name",
         "rawType": "object",
         "type": "string"
        },
        {
         "name": "brand_name",
         "rawType": "object",
         "type": "string"
        },
        {
         "name": "price_usd",
         "rawType": "float64",
         "type": "float"
        },
        {
         "name": "sentiment",
         "rawType": "int64",
         "type": "integer"
        },
        {
         "name": "date",
         "rawType": "object",
         "type": "string"
        }
       ],
       "conversionMethod": "pd.DataFrame",
       "ref": "5d6777ad-9536-4130-8ffe-0d2ee1842109",
       "rows": [
        [
         "0",
         "891454",
         "1117870798.0",
         "5",
         "1.0",
         "0.2857140004634857",
         "21",
         "15",
         "6",
         "2008-08-29",
         "it is cruel for nature to combine aging and acne but it happened to me i’ve been using the supplement for two months and my skin in exponentially clearer one warningdo not let yourself run out 1 week without and i started breaking out again never again the pills are big and stinky but the results are worth it",
         "It actually works!",
         "light",
         null,
         "combination",
         null,
         "P7365",
         "Pure Skin Clarifying Dietary Supplement",
         "Murad",
         "50.0",
         "2",
         "2008-08-29"
        ],
        [
         "1",
         "24870",
         "1221497549.0",
         "4",
         "1.0",
         "1.0",
         "0",
         "0",
         "0",
         "2008-09-03",
         "love it i had to get used to it not foaming it leaves my skin refreshed and toned but it doesnt quite take all my eye makeup off",
         null,
         "light",
         null,
         "dry",
         null,
         "P7880",
         "Soy Hydrating Gentle Face Cleanser",
         "fresh",
         "39.0",
         "2",
         "2008-09-03"
        ],
        [
         "2",
         "780337",
         "1229624109.0",
         "5",
         "1.0",
         "1.0",
         "4",
         "0",
         "4",
         "2008-09-04",
         "this product is great i only have to use it occasionally because it does the job so well it’s packed with very tiny particles that exfoliate the skin quickly and easily without it hurting or without your having to put in a lot of effort makes my face feel smooth and fresh every time",
         null,
         "mediumTan",
         null,
         "combination",
         null,
         "P122661",
         "7 Day Face Scrub Cream Rinse-Off Formula",
         "CLINIQUE",
         "26.0",
         "2",
         "2008-09-04"
        ],
        [
         "3",
         "622360",
         "1526018747.0",
         "5",
         "1.0",
         "0.1111110001802444",
         "9",
         "8",
         "1",
         "2008-09-06",
         "this stuff works so well",
         "Amazing!",
         null,
         null,
         null,
         null,
         "P2046",
         "Brumisateur Natural Mineral Water Facial Spray Travel Trio",
         "Evian",
         "23.5",
         "2",
         "2008-09-06"
        ],
        [
         "4",
         "478352",
         "54172647.0",
         "5",
         "1.0",
         "1.0",
         "0",
         "0",
         "0",
         "2008-09-11",
         "love it it’s moisturizing and helps keep concealer in place",
         "Lovely Eye Cream",
         "lightMedium",
         null,
         "combination",
         null,
         "P174502",
         "All About Eyes Rich Eye Cream",
         "CLINIQUE",
         "37.0",
         "2",
         "2008-09-11"
        ]
       ],
       "shape": {
        "columns": 21,
        "rows": 5
       }
      },
      "text/html": [
       "<div>\n",
       "<style scoped>\n",
       "    .dataframe tbody tr th:only-of-type {\n",
       "        vertical-align: middle;\n",
       "    }\n",
       "\n",
       "    .dataframe tbody tr th {\n",
       "        vertical-align: top;\n",
       "    }\n",
       "\n",
       "    .dataframe thead th {\n",
       "        text-align: right;\n",
       "    }\n",
       "</style>\n",
       "<table border=\"1\" class=\"dataframe\">\n",
       "  <thead>\n",
       "    <tr style=\"text-align: right;\">\n",
       "      <th></th>\n",
       "      <th>review_id</th>\n",
       "      <th>author_id</th>\n",
       "      <th>rating</th>\n",
       "      <th>is_recommended</th>\n",
       "      <th>helpfulness</th>\n",
       "      <th>total_feedback_count</th>\n",
       "      <th>total_neg_feedback_count</th>\n",
       "      <th>total_pos_feedback_count</th>\n",
       "      <th>submission_time</th>\n",
       "      <th>review_text</th>\n",
       "      <th>...</th>\n",
       "      <th>skin_tone</th>\n",
       "      <th>eye_color</th>\n",
       "      <th>skin_type</th>\n",
       "      <th>hair_color</th>\n",
       "      <th>product_id</th>\n",
       "      <th>product_name</th>\n",
       "      <th>brand_name</th>\n",
       "      <th>price_usd</th>\n",
       "      <th>sentiment</th>\n",
       "      <th>date</th>\n",
       "    </tr>\n",
       "  </thead>\n",
       "  <tbody>\n",
       "    <tr>\n",
       "      <th>0</th>\n",
       "      <td>891454</td>\n",
       "      <td>1117870798.0</td>\n",
       "      <td>5</td>\n",
       "      <td>1.0</td>\n",
       "      <td>0.285714</td>\n",
       "      <td>21</td>\n",
       "      <td>15</td>\n",
       "      <td>6</td>\n",
       "      <td>2008-08-29</td>\n",
       "      <td>it is cruel for nature to combine aging and ac...</td>\n",
       "      <td>...</td>\n",
       "      <td>light</td>\n",
       "      <td>NaN</td>\n",
       "      <td>combination</td>\n",
       "      <td>NaN</td>\n",
       "      <td>P7365</td>\n",
       "      <td>Pure Skin Clarifying Dietary Supplement</td>\n",
       "      <td>Murad</td>\n",
       "      <td>50.0</td>\n",
       "      <td>2</td>\n",
       "      <td>2008-08-29</td>\n",
       "    </tr>\n",
       "    <tr>\n",
       "      <th>1</th>\n",
       "      <td>24870</td>\n",
       "      <td>1221497549.0</td>\n",
       "      <td>4</td>\n",
       "      <td>1.0</td>\n",
       "      <td>1.000000</td>\n",
       "      <td>0</td>\n",
       "      <td>0</td>\n",
       "      <td>0</td>\n",
       "      <td>2008-09-03</td>\n",
       "      <td>love it i had to get used to it not foaming it...</td>\n",
       "      <td>...</td>\n",
       "      <td>light</td>\n",
       "      <td>NaN</td>\n",
       "      <td>dry</td>\n",
       "      <td>NaN</td>\n",
       "      <td>P7880</td>\n",
       "      <td>Soy Hydrating Gentle Face Cleanser</td>\n",
       "      <td>fresh</td>\n",
       "      <td>39.0</td>\n",
       "      <td>2</td>\n",
       "      <td>2008-09-03</td>\n",
       "    </tr>\n",
       "    <tr>\n",
       "      <th>2</th>\n",
       "      <td>780337</td>\n",
       "      <td>1229624109.0</td>\n",
       "      <td>5</td>\n",
       "      <td>1.0</td>\n",
       "      <td>1.000000</td>\n",
       "      <td>4</td>\n",
       "      <td>0</td>\n",
       "      <td>4</td>\n",
       "      <td>2008-09-04</td>\n",
       "      <td>this product is great i only have to use it oc...</td>\n",
       "      <td>...</td>\n",
       "      <td>mediumTan</td>\n",
       "      <td>NaN</td>\n",
       "      <td>combination</td>\n",
       "      <td>NaN</td>\n",
       "      <td>P122661</td>\n",
       "      <td>7 Day Face Scrub Cream Rinse-Off Formula</td>\n",
       "      <td>CLINIQUE</td>\n",
       "      <td>26.0</td>\n",
       "      <td>2</td>\n",
       "      <td>2008-09-04</td>\n",
       "    </tr>\n",
       "    <tr>\n",
       "      <th>3</th>\n",
       "      <td>622360</td>\n",
       "      <td>1526018747.0</td>\n",
       "      <td>5</td>\n",
       "      <td>1.0</td>\n",
       "      <td>0.111111</td>\n",
       "      <td>9</td>\n",
       "      <td>8</td>\n",
       "      <td>1</td>\n",
       "      <td>2008-09-06</td>\n",
       "      <td>this stuff works so well</td>\n",
       "      <td>...</td>\n",
       "      <td>NaN</td>\n",
       "      <td>NaN</td>\n",
       "      <td>NaN</td>\n",
       "      <td>NaN</td>\n",
       "      <td>P2046</td>\n",
       "      <td>Brumisateur Natural Mineral Water Facial Spray...</td>\n",
       "      <td>Evian</td>\n",
       "      <td>23.5</td>\n",
       "      <td>2</td>\n",
       "      <td>2008-09-06</td>\n",
       "    </tr>\n",
       "    <tr>\n",
       "      <th>4</th>\n",
       "      <td>478352</td>\n",
       "      <td>54172647.0</td>\n",
       "      <td>5</td>\n",
       "      <td>1.0</td>\n",
       "      <td>1.000000</td>\n",
       "      <td>0</td>\n",
       "      <td>0</td>\n",
       "      <td>0</td>\n",
       "      <td>2008-09-11</td>\n",
       "      <td>love it it’s moisturizing and helps keep conce...</td>\n",
       "      <td>...</td>\n",
       "      <td>lightMedium</td>\n",
       "      <td>NaN</td>\n",
       "      <td>combination</td>\n",
       "      <td>NaN</td>\n",
       "      <td>P174502</td>\n",
       "      <td>All About Eyes Rich Eye Cream</td>\n",
       "      <td>CLINIQUE</td>\n",
       "      <td>37.0</td>\n",
       "      <td>2</td>\n",
       "      <td>2008-09-11</td>\n",
       "    </tr>\n",
       "  </tbody>\n",
       "</table>\n",
       "<p>5 rows × 21 columns</p>\n",
       "</div>"
      ],
      "text/plain": [
       "   review_id     author_id  rating  is_recommended  helpfulness  \\\n",
       "0     891454  1117870798.0       5             1.0     0.285714   \n",
       "1      24870  1221497549.0       4             1.0     1.000000   \n",
       "2     780337  1229624109.0       5             1.0     1.000000   \n",
       "3     622360  1526018747.0       5             1.0     0.111111   \n",
       "4     478352    54172647.0       5             1.0     1.000000   \n",
       "\n",
       "   total_feedback_count  total_neg_feedback_count  total_pos_feedback_count  \\\n",
       "0                    21                        15                         6   \n",
       "1                     0                         0                         0   \n",
       "2                     4                         0                         4   \n",
       "3                     9                         8                         1   \n",
       "4                     0                         0                         0   \n",
       "\n",
       "  submission_time                                        review_text  ...  \\\n",
       "0      2008-08-29  it is cruel for nature to combine aging and ac...  ...   \n",
       "1      2008-09-03  love it i had to get used to it not foaming it...  ...   \n",
       "2      2008-09-04  this product is great i only have to use it oc...  ...   \n",
       "3      2008-09-06                           this stuff works so well  ...   \n",
       "4      2008-09-11  love it it’s moisturizing and helps keep conce...  ...   \n",
       "\n",
       "     skin_tone eye_color    skin_type hair_color product_id  \\\n",
       "0        light       NaN  combination        NaN      P7365   \n",
       "1        light       NaN          dry        NaN      P7880   \n",
       "2    mediumTan       NaN  combination        NaN    P122661   \n",
       "3          NaN       NaN          NaN        NaN      P2046   \n",
       "4  lightMedium       NaN  combination        NaN    P174502   \n",
       "\n",
       "                                        product_name brand_name price_usd  \\\n",
       "0            Pure Skin Clarifying Dietary Supplement      Murad      50.0   \n",
       "1                 Soy Hydrating Gentle Face Cleanser      fresh      39.0   \n",
       "2           7 Day Face Scrub Cream Rinse-Off Formula   CLINIQUE      26.0   \n",
       "3  Brumisateur Natural Mineral Water Facial Spray...      Evian      23.5   \n",
       "4                      All About Eyes Rich Eye Cream   CLINIQUE      37.0   \n",
       "\n",
       "   sentiment        date  \n",
       "0          2  2008-08-29  \n",
       "1          2  2008-09-03  \n",
       "2          2  2008-09-04  \n",
       "3          2  2008-09-06  \n",
       "4          2  2008-09-11  \n",
       "\n",
       "[5 rows x 21 columns]"
      ]
     },
     "execution_count": 153,
     "metadata": {},
     "output_type": "execute_result"
    }
   ],
   "source": [
    "df.head()"
   ]
  },
  {
   "cell_type": "code",
   "execution_count": 154,
   "id": "aa172b26",
   "metadata": {},
   "outputs": [
    {
     "data": {
      "text/plain": [
       "Index(['review_id', 'author_id', 'rating', 'is_recommended', 'helpfulness',\n",
       "       'total_feedback_count', 'total_neg_feedback_count',\n",
       "       'total_pos_feedback_count', 'submission_time', 'review_text',\n",
       "       'review_title', 'skin_tone', 'eye_color', 'skin_type', 'hair_color',\n",
       "       'product_id', 'product_name', 'brand_name', 'price_usd', 'sentiment',\n",
       "       'date'],\n",
       "      dtype='object')"
      ]
     },
     "execution_count": 154,
     "metadata": {},
     "output_type": "execute_result"
    }
   ],
   "source": [
    "df.columns"
   ]
  },
  {
   "cell_type": "markdown",
   "id": "28be8e7d",
   "metadata": {},
   "source": [
    "### Drop unnecessary features"
   ]
  },
  {
   "cell_type": "code",
   "execution_count": 155,
   "id": "6b5ce388",
   "metadata": {},
   "outputs": [],
   "source": [
    "to_drop = ['review_id', 'author_id', 'submission_time', 'product_name', 'date',\n",
    "            'brand_name', 'submission_time','review_title',  'product_id', 'sentiment', \"price_usd\"]\n",
    "df.drop(columns=to_drop, inplace=True)"
   ]
  },
  {
   "cell_type": "markdown",
   "id": "78784bb7",
   "metadata": {},
   "source": [
    "### Encoding"
   ]
  },
  {
   "cell_type": "code",
   "execution_count": 156,
   "id": "24b8d90f",
   "metadata": {},
   "outputs": [],
   "source": [
    "encoder = OrdinalEncoder()\n",
    "to_encode = ['skin_tone', 'eye_color', 'skin_type', 'hair_color']\n",
    "df[to_encode] = encoder.fit_transform(df[to_encode])"
   ]
  },
  {
   "cell_type": "markdown",
   "id": "28b3eb12",
   "metadata": {},
   "source": [
    "### Filling missing values"
   ]
  },
  {
   "cell_type": "code",
   "execution_count": 157,
   "id": "5e0f3b2d",
   "metadata": {},
   "outputs": [
    {
     "data": {
      "text/plain": [
       "rating                          0\n",
       "is_recommended                  0\n",
       "helpfulness                     0\n",
       "total_feedback_count            0\n",
       "total_neg_feedback_count        0\n",
       "total_pos_feedback_count        0\n",
       "review_text                   114\n",
       "skin_tone                    8587\n",
       "eye_color                   10386\n",
       "skin_type                    5508\n",
       "hair_color                  11362\n",
       "dtype: int64"
      ]
     },
     "execution_count": 157,
     "metadata": {},
     "output_type": "execute_result"
    }
   ],
   "source": [
    "df.isnull().sum()"
   ]
  },
  {
   "cell_type": "code",
   "execution_count": 158,
   "id": "468a2347",
   "metadata": {},
   "outputs": [],
   "source": [
    "df = df.dropna(subset=['review_text'])\n",
    "df = df.fillna(-1)"
   ]
  },
  {
   "cell_type": "markdown",
   "id": "4313fb8c",
   "metadata": {},
   "source": [
    "### Feature Engineering for review_text feature"
   ]
  },
  {
   "cell_type": "code",
   "execution_count": 159,
   "id": "510fcf26",
   "metadata": {},
   "outputs": [],
   "source": [
    "def clean_text(text):\n",
    "    if pd.isnull(text):\n",
    "        return \"\"\n",
    "    text = text.lower()                          # Lowercase\n",
    "    text = re.sub(r'[^a-z0-9\\s]', '', text)      # Remove punctuation and special characters\n",
    "    text = re.sub(r'\\s+', ' ', text).strip()     # Remove extra spaces\n",
    "    return text\n",
    "\n",
    "df['review_clean'] = df['review_text'].apply(clean_text)\n",
    "del df['review_text']"
   ]
  },
  {
   "cell_type": "code",
   "execution_count": 160,
   "id": "1d9c8865",
   "metadata": {},
   "outputs": [],
   "source": [
    "vectorizer = TfidfVectorizer(max_features=1000, ngram_range=(1,2))\n",
    "X_review = vectorizer.fit_transform(df['review_clean'])\n",
    "del df['review_clean']"
   ]
  },
  {
   "cell_type": "code",
   "execution_count": 161,
   "id": "2f851ff0",
   "metadata": {},
   "outputs": [],
   "source": [
    "target_col = 'is_recommended'\n",
    "\n",
    "X_structured = df.drop(columns=[target_col])\n",
    "y = df[target_col]\n",
    "y = y.astype(int)"
   ]
  },
  {
   "cell_type": "code",
   "execution_count": 162,
   "id": "23d1bc88",
   "metadata": {},
   "outputs": [
    {
     "data": {
      "text/plain": [
       "(54620, 9)"
      ]
     },
     "execution_count": 162,
     "metadata": {},
     "output_type": "execute_result"
    }
   ],
   "source": [
    "X_structured.shape"
   ]
  },
  {
   "cell_type": "markdown",
   "id": "7d71a311",
   "metadata": {},
   "source": [
    "### Combine with the rest of the data"
   ]
  },
  {
   "cell_type": "code",
   "execution_count": 163,
   "id": "220484ae",
   "metadata": {},
   "outputs": [],
   "source": [
    "X_structured = X_structured.values"
   ]
  },
  {
   "cell_type": "code",
   "execution_count": 164,
   "id": "9a36ed87",
   "metadata": {},
   "outputs": [],
   "source": [
    "X_structured = X_structured.astype('float64')\n",
    "X_review = X_review.astype('float64')"
   ]
  },
  {
   "cell_type": "code",
   "execution_count": 165,
   "id": "005be727",
   "metadata": {},
   "outputs": [],
   "source": [
    "X = hstack([X_structured, X_review]).toarray()"
   ]
  },
  {
   "cell_type": "markdown",
   "id": "7359ae0c",
   "metadata": {},
   "source": [
    "### Save"
   ]
  },
  {
   "cell_type": "code",
   "execution_count": 166,
   "id": "c2cc4ef7",
   "metadata": {},
   "outputs": [],
   "source": [
    "np.save('X_final.npy', X)\n",
    "np.save('y_final.npy', y.values)"
   ]
  },
  {
   "cell_type": "code",
   "execution_count": null,
   "id": "527a846b",
   "metadata": {},
   "outputs": [],
   "source": []
  }
 ],
 "metadata": {
  "kernelspec": {
   "display_name": "Python 3",
   "language": "python",
   "name": "python3"
  },
  "language_info": {
   "codemirror_mode": {
    "name": "ipython",
    "version": 3
   },
   "file_extension": ".py",
   "mimetype": "text/x-python",
   "name": "python",
   "nbconvert_exporter": "python",
   "pygments_lexer": "ipython3",
   "version": "3.12.5"
  }
 },
 "nbformat": 4,
 "nbformat_minor": 5
}
